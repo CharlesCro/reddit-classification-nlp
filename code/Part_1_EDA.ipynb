{
 "cells": [
  {
   "cell_type": "markdown",
   "id": "a80db7ca-de4b-40e8-9544-1aceb78dce23",
   "metadata": {},
   "source": [
    "# ![](https://ga-dash.s3.amazonaws.com/production/assets/logo-9f88ae6c9c3871690e33280fcf557f33.png) Project 3: Web APIs & NLP by Charles Crocicchia"
   ]
  },
  {
   "cell_type": "markdown",
   "id": "41d81e87-3209-4867-be7e-4b9bda4a8815",
   "metadata": {},
   "source": [
    "---\n",
    "## Problem Statement"
   ]
  },
  {
   "cell_type": "markdown",
   "id": "80c07116-94d7-4dcb-9fdd-29f394716615",
   "metadata": {},
   "source": [
    "I work for a linguistic research team whose goal is to visualize patterns or trends in the rapidly developing language of the online world. In this day and age, where discussions take place more and more in the digital format, my team hopes to take advantage of the vast amount of data available online regarding how people use language. Specifically, our domain of research will be focused on observing the social and cultural language trends of the popular online community Reddit.\n",
    "\n",
    "- r/philosophy is a Reddit fourm where people share and discuss morals, ethics, and social observations made by prominent figures in the philosophical research community.\n",
    "- r/showerthoughts is a Reddit forum where people voice their realizations or epiphanies that they have discovered independently of academic/scientific research.\n",
    "\n",
    "With the language data of these two Reddit forums at my research team's disposal, the question we hope to answer is:\n",
    "- Is there a difference between our own self-made observations and those made by established philosophers?\n",
    "\n",
    "Over the course of two weeks my team will collect the language used by both of these subreddits and process the data in order to effectively visualize potential patterns of speech.\n",
    "Using these findings, we hope to deliver a model which accurately identifies the subreddit in which a piece of language was taken from."
   ]
  },
  {
   "cell_type": "markdown",
   "id": "13e4fe3a-feb0-4863-a80e-c4e8411ce6c5",
   "metadata": {},
   "source": [
    "---\n",
    "## Exploraty Data Analysis"
   ]
  },
  {
   "cell_type": "markdown",
   "id": "478abc7d-214f-408c-a13f-c1327e2c006d",
   "metadata": {},
   "source": [
    "**We will begin by observing the data collected from both r/philosophy and r/showerthoughts.**\n",
    "\n",
    "- Our analysis is using the titles of posts collected from each subreddit, as this is where the language is most succinct.\n",
    "- The goal of this section is to ensure we have collected our data properly, as well as ensuring it is in the proper format to be processed by our models.\n",
    "- Analyzing our data is helpful in spotting potential patterns/trends in the language. This can be useful for making insights that can already help us achieve the goals of our problem statement, as well as increase the performance of our production model."
   ]
  },
  {
   "cell_type": "markdown",
   "id": "670e92fe-f7e1-44da-bd85-d973d2f87ba2",
   "metadata": {},
   "source": [
    "---\n",
    "### Import Libraries"
   ]
  },
  {
   "cell_type": "code",
   "execution_count": 11,
   "id": "31cba209-44ea-40db-a955-1a9a10f95831",
   "metadata": {},
   "outputs": [],
   "source": [
    "import pandas as pd\n",
    "import matplotlib.pyplot as plt\n",
    "import numpy as np\n",
    "import seaborn as sns\n",
    "\n",
    "from nltk.corpus import stopwords\n",
    "from nltk.tokenize import word_tokenize\n",
    "from nltk.stem import WordNetLemmatizer\n",
    "\n",
    "from sklearn.feature_extraction.text import CountVectorizer"
   ]
  },
  {
   "cell_type": "markdown",
   "id": "4fd802f0-bc1a-4e57-963d-92bdd3d91d02",
   "metadata": {},
   "source": [
    "---\n",
    "### Load Data"
   ]
  },
  {
   "cell_type": "markdown",
   "id": "c1324f99-a613-45da-84e2-d54de0605770",
   "metadata": {},
   "source": [
    "- Over a four day period, I was able to collect more than 1700 post titles in total across both subreddits using a python script to automate the process."
   ]
  },
  {
   "cell_type": "code",
   "execution_count": 13,
   "id": "a027dea6-94bd-4f45-9e8d-14886498559e",
   "metadata": {},
   "outputs": [
    {
     "name": "stdout",
     "output_type": "stream",
     "text": [
      "1775 total observations\n"
     ]
    }
   ],
   "source": [
    "df = pd.read_csv('../data/subreddit_data.csv')\n",
    "print(f'{df.shape[0]} total observations')"
   ]
  },
  {
   "cell_type": "code",
   "execution_count": 17,
   "id": "47211227-3467-4414-af71-6d0dba1f44f4",
   "metadata": {},
   "outputs": [
    {
     "data": {
      "text/html": [
       "<div>\n",
       "<style scoped>\n",
       "    .dataframe tbody tr th:only-of-type {\n",
       "        vertical-align: middle;\n",
       "    }\n",
       "\n",
       "    .dataframe tbody tr th {\n",
       "        vertical-align: top;\n",
       "    }\n",
       "\n",
       "    .dataframe thead th {\n",
       "        text-align: right;\n",
       "    }\n",
       "</style>\n",
       "<table border=\"1\" class=\"dataframe\">\n",
       "  <thead>\n",
       "    <tr style=\"text-align: right;\">\n",
       "      <th></th>\n",
       "      <th>title</th>\n",
       "      <th>ID</th>\n",
       "      <th>subreddit</th>\n",
       "    </tr>\n",
       "  </thead>\n",
       "  <tbody>\n",
       "    <tr>\n",
       "      <th>0</th>\n",
       "      <td>Jonathan Rée · No Foreigners: on Derrida’s Hos...</td>\n",
       "      <td>t3_1fw1nkf</td>\n",
       "      <td>philosophy</td>\n",
       "    </tr>\n",
       "    <tr>\n",
       "      <th>1</th>\n",
       "      <td>Introspection is a dangerous trap which lures ...</td>\n",
       "      <td>t3_1fvuxbl</td>\n",
       "      <td>philosophy</td>\n",
       "    </tr>\n",
       "    <tr>\n",
       "      <th>2</th>\n",
       "      <td>The True and the Good: A Strong Virtue Theory ...</td>\n",
       "      <td>t3_1fvrkf1</td>\n",
       "      <td>philosophy</td>\n",
       "    </tr>\n",
       "    <tr>\n",
       "      <th>3</th>\n",
       "      <td>Perhaps a major stepping stone to the good lif...</td>\n",
       "      <td>t3_1fvc7cb</td>\n",
       "      <td>philosophy</td>\n",
       "    </tr>\n",
       "    <tr>\n",
       "      <th>4</th>\n",
       "      <td>\"Humans understand the world more easily throu...</td>\n",
       "      <td>t3_1fv5d7d</td>\n",
       "      <td>philosophy</td>\n",
       "    </tr>\n",
       "    <tr>\n",
       "      <th>5</th>\n",
       "      <td>Why Christian Methodological Platonism (CMP) O...</td>\n",
       "      <td>t3_1fueady</td>\n",
       "      <td>philosophy</td>\n",
       "    </tr>\n",
       "    <tr>\n",
       "      <th>6</th>\n",
       "      <td>Philosophy is an erotic endeavour. | Plato's E...</td>\n",
       "      <td>t3_1fucl3c</td>\n",
       "      <td>philosophy</td>\n",
       "    </tr>\n",
       "    <tr>\n",
       "      <th>7</th>\n",
       "      <td>Leibniz on Possibilia, Creation, and the Reali...</td>\n",
       "      <td>t3_1fu97nj</td>\n",
       "      <td>philosophy</td>\n",
       "    </tr>\n",
       "    <tr>\n",
       "      <th>8</th>\n",
       "      <td>Kant and Baumgarten on the Duty of Self-Love</td>\n",
       "      <td>t3_1ftgign</td>\n",
       "      <td>philosophy</td>\n",
       "    </tr>\n",
       "    <tr>\n",
       "      <th>9</th>\n",
       "      <td>/r/philosophy Open Discussion Thread | Septemb...</td>\n",
       "      <td>t3_1fsw8za</td>\n",
       "      <td>philosophy</td>\n",
       "    </tr>\n",
       "  </tbody>\n",
       "</table>\n",
       "</div>"
      ],
      "text/plain": [
       "                                               title          ID   subreddit\n",
       "0  Jonathan Rée · No Foreigners: on Derrida’s Hos...  t3_1fw1nkf  philosophy\n",
       "1  Introspection is a dangerous trap which lures ...  t3_1fvuxbl  philosophy\n",
       "2  The True and the Good: A Strong Virtue Theory ...  t3_1fvrkf1  philosophy\n",
       "3  Perhaps a major stepping stone to the good lif...  t3_1fvc7cb  philosophy\n",
       "4  \"Humans understand the world more easily throu...  t3_1fv5d7d  philosophy\n",
       "5  Why Christian Methodological Platonism (CMP) O...  t3_1fueady  philosophy\n",
       "6  Philosophy is an erotic endeavour. | Plato's E...  t3_1fucl3c  philosophy\n",
       "7  Leibniz on Possibilia, Creation, and the Reali...  t3_1fu97nj  philosophy\n",
       "8       Kant and Baumgarten on the Duty of Self-Love  t3_1ftgign  philosophy\n",
       "9  /r/philosophy Open Discussion Thread | Septemb...  t3_1fsw8za  philosophy"
      ]
     },
     "execution_count": 17,
     "metadata": {},
     "output_type": "execute_result"
    }
   ],
   "source": [
    "df.head(10)"
   ]
  },
  {
   "cell_type": "code",
   "execution_count": 19,
   "id": "8d1a856d-9c6d-4b6c-9c05-7aff6337734f",
   "metadata": {},
   "outputs": [
    {
     "name": "stdout",
     "output_type": "stream",
     "text": [
      "<class 'pandas.core.frame.DataFrame'>\n",
      "RangeIndex: 1775 entries, 0 to 1774\n",
      "Data columns (total 3 columns):\n",
      " #   Column     Non-Null Count  Dtype \n",
      "---  ------     --------------  ----- \n",
      " 0   title      1775 non-null   object\n",
      " 1   ID         1775 non-null   object\n",
      " 2   subreddit  1775 non-null   object\n",
      "dtypes: object(3)\n",
      "memory usage: 41.7+ KB\n"
     ]
    }
   ],
   "source": [
    "# Quick overview.\n",
    "df.info()"
   ]
  },
  {
   "cell_type": "code",
   "execution_count": 21,
   "id": "874bb6c1-5599-4d6c-983a-3b5c30e5a939",
   "metadata": {},
   "outputs": [
    {
     "data": {
      "text/plain": [
       "title        0\n",
       "ID           0\n",
       "subreddit    0\n",
       "dtype: int64"
      ]
     },
     "execution_count": 21,
     "metadata": {},
     "output_type": "execute_result"
    }
   ],
   "source": [
    "# Double checking for missing values.\n",
    "df.isna().sum()"
   ]
  },
  {
   "cell_type": "code",
   "execution_count": 25,
   "id": "31f19e0d-cddc-48df-ba03-d7baa273cdfd",
   "metadata": {},
   "outputs": [
    {
     "data": {
      "text/plain": [
       "subreddit\n",
       "Showerthoughts    1012\n",
       "philosophy         763\n",
       "Name: count, dtype: int64"
      ]
     },
     "execution_count": 25,
     "metadata": {},
     "output_type": "execute_result"
    }
   ],
   "source": [
    "# Checking how many total posts I was able to retrieve from each subreddit.\n",
    "df['subreddit'].value_counts()\n",
    "\n",
    "# r/philosophy does not have as high a post rate as r/Showerthoughts, I was expecting some imbalance and I feel it's just enough to make this interesting.\n",
    "# I will need to account for this imbalance by stratifying my train test splits in part 2."
   ]
  },
  {
   "cell_type": "code",
   "execution_count": 27,
   "id": "2f18e5d1-215a-4adb-b286-8ea8c0ab3fad",
   "metadata": {},
   "outputs": [
    {
     "name": "stdout",
     "output_type": "stream",
     "text": [
      "Jonathan Rée · No Foreigners: on Derrida’s Hospitality\n",
      "Introspection is a dangerous trap which lures us with the illusion of self-knowledge but often leads to anxiety, confusion, and even depression. As Nietzsche noted, it's a futile loop: using the self to uncover the self only deepens the cycle of endless questioning. \n",
      "The True and the Good: A Strong Virtue Theory of the Value of Truth\n",
      "Perhaps a major stepping stone to the good life isn’t striving for moral or material perfection; perhaps it’s simply taking a breath, going for a walk, and being a bit easier on ourselves in our imaginations | Epicurus on the Arduous Task of Untroubling the Mind\n",
      "\"Humans understand the world more easily through stories than philosophical arguments. But instead of saying we should only tell stories or only do philosophy, we ought to teach people how to do both in the best possible way!\" -Margaret Atwood on fiction vs philosophy.\n",
      "==========================================================================================\n",
      "Words are like items: the rich have many and rare ones, while the poor often have to use simpler, or less authentic ones.\n",
      "Coca cola mixed with Pepsi might be better than the sum of it's parts; the soft drink we never knew we wanted. \n",
      "The average woman has more plastic in her body than the average man and the average man has more metal in his body than the average woman.\n",
      "Aladdin inadvertently took away other people's chances of getting their wishes when he befriended the genie.\n",
      "The hard-boiled egg is probably the most consistent, universal food experience shared by humanity across time and regions.\n"
     ]
    }
   ],
   "source": [
    "# Reading a few titles from each subreddit.\n",
    "for title in df[df['subreddit'] == 'philosophy']['title'][:5]:\n",
    "    print(title)\n",
    "\n",
    "print('==='*30)\n",
    "\n",
    "for title in df[df['subreddit'] == 'Showerthoughts']['title'][:5]:\n",
    "    print(title)"
   ]
  },
  {
   "cell_type": "code",
   "execution_count": 29,
   "id": "ff19f83c-620f-4ca7-a2ba-abf91d8b853f",
   "metadata": {},
   "outputs": [
    {
     "data": {
      "text/html": [
       "<div>\n",
       "<style scoped>\n",
       "    .dataframe tbody tr th:only-of-type {\n",
       "        vertical-align: middle;\n",
       "    }\n",
       "\n",
       "    .dataframe tbody tr th {\n",
       "        vertical-align: top;\n",
       "    }\n",
       "\n",
       "    .dataframe thead th {\n",
       "        text-align: right;\n",
       "    }\n",
       "</style>\n",
       "<table border=\"1\" class=\"dataframe\">\n",
       "  <thead>\n",
       "    <tr style=\"text-align: right;\">\n",
       "      <th></th>\n",
       "      <th>title</th>\n",
       "      <th>ID</th>\n",
       "      <th>subreddit</th>\n",
       "      <th>title_length</th>\n",
       "    </tr>\n",
       "  </thead>\n",
       "  <tbody>\n",
       "    <tr>\n",
       "      <th>1229</th>\n",
       "      <td>What are the chances that, in open-world games...</td>\n",
       "      <td>t3_1e4pdg6</td>\n",
       "      <td>Showerthoughts</td>\n",
       "      <td>300</td>\n",
       "    </tr>\n",
       "    <tr>\n",
       "      <th>1050</th>\n",
       "      <td>TV started as a system where companies picked ...</td>\n",
       "      <td>t3_1eb59kh</td>\n",
       "      <td>Showerthoughts</td>\n",
       "      <td>298</td>\n",
       "    </tr>\n",
       "    <tr>\n",
       "      <th>1002</th>\n",
       "      <td>There should be a Vehicle version of the Libra...</td>\n",
       "      <td>t3_1fwhllu</td>\n",
       "      <td>Showerthoughts</td>\n",
       "      <td>296</td>\n",
       "    </tr>\n",
       "    <tr>\n",
       "      <th>856</th>\n",
       "      <td>If you start counting out loud as fast as you ...</td>\n",
       "      <td>t3_1ekbfic</td>\n",
       "      <td>Showerthoughts</td>\n",
       "      <td>296</td>\n",
       "    </tr>\n",
       "    <tr>\n",
       "      <th>601</th>\n",
       "      <td>An unaddressed factor in the increase in schoo...</td>\n",
       "      <td>t3_1ffi8lr</td>\n",
       "      <td>Showerthoughts</td>\n",
       "      <td>292</td>\n",
       "    </tr>\n",
       "  </tbody>\n",
       "</table>\n",
       "</div>"
      ],
      "text/plain": [
       "                                                  title          ID  \\\n",
       "1229  What are the chances that, in open-world games...  t3_1e4pdg6   \n",
       "1050  TV started as a system where companies picked ...  t3_1eb59kh   \n",
       "1002  There should be a Vehicle version of the Libra...  t3_1fwhllu   \n",
       "856   If you start counting out loud as fast as you ...  t3_1ekbfic   \n",
       "601   An unaddressed factor in the increase in schoo...  t3_1ffi8lr   \n",
       "\n",
       "           subreddit  title_length  \n",
       "1229  Showerthoughts           300  \n",
       "1050  Showerthoughts           298  \n",
       "1002  Showerthoughts           296  \n",
       "856   Showerthoughts           296  \n",
       "601   Showerthoughts           292  "
      ]
     },
     "execution_count": 29,
     "metadata": {},
     "output_type": "execute_result"
    }
   ],
   "source": [
    "# I'd like to explore the title lengths first just to get a better idea of what I'm working with.\n",
    "df['title_length'] = [len(title) for title in df['title']]\n",
    "df.sort_values(by = 'title_length', ascending = False).head(5)"
   ]
  },
  {
   "cell_type": "code",
   "execution_count": 31,
   "id": "fe838d1e-09bb-40e5-a97c-58edbab734a9",
   "metadata": {},
   "outputs": [
    {
     "data": {
      "text/html": [
       "<div>\n",
       "<style scoped>\n",
       "    .dataframe tbody tr th:only-of-type {\n",
       "        vertical-align: middle;\n",
       "    }\n",
       "\n",
       "    .dataframe tbody tr th {\n",
       "        vertical-align: top;\n",
       "    }\n",
       "\n",
       "    .dataframe thead th {\n",
       "        text-align: right;\n",
       "    }\n",
       "</style>\n",
       "<table border=\"1\" class=\"dataframe\">\n",
       "  <thead>\n",
       "    <tr style=\"text-align: right;\">\n",
       "      <th></th>\n",
       "      <th>title</th>\n",
       "      <th>ID</th>\n",
       "      <th>subreddit</th>\n",
       "      <th>title_length</th>\n",
       "      <th>title_word_count</th>\n",
       "    </tr>\n",
       "  </thead>\n",
       "  <tbody>\n",
       "    <tr>\n",
       "      <th>856</th>\n",
       "      <td>If you start counting out loud as fast as you ...</td>\n",
       "      <td>t3_1ekbfic</td>\n",
       "      <td>Showerthoughts</td>\n",
       "      <td>296</td>\n",
       "      <td>59</td>\n",
       "    </tr>\n",
       "    <tr>\n",
       "      <th>1257</th>\n",
       "      <td>The security guard in FNaF could just leave th...</td>\n",
       "      <td>t3_1e3r4vu</td>\n",
       "      <td>Showerthoughts</td>\n",
       "      <td>291</td>\n",
       "      <td>53</td>\n",
       "    </tr>\n",
       "    <tr>\n",
       "      <th>1229</th>\n",
       "      <td>What are the chances that, in open-world games...</td>\n",
       "      <td>t3_1e4pdg6</td>\n",
       "      <td>Showerthoughts</td>\n",
       "      <td>300</td>\n",
       "      <td>52</td>\n",
       "    </tr>\n",
       "    <tr>\n",
       "      <th>1050</th>\n",
       "      <td>TV started as a system where companies picked ...</td>\n",
       "      <td>t3_1eb59kh</td>\n",
       "      <td>Showerthoughts</td>\n",
       "      <td>298</td>\n",
       "      <td>52</td>\n",
       "    </tr>\n",
       "    <tr>\n",
       "      <th>1002</th>\n",
       "      <td>There should be a Vehicle version of the Libra...</td>\n",
       "      <td>t3_1fwhllu</td>\n",
       "      <td>Showerthoughts</td>\n",
       "      <td>296</td>\n",
       "      <td>52</td>\n",
       "    </tr>\n",
       "  </tbody>\n",
       "</table>\n",
       "</div>"
      ],
      "text/plain": [
       "                                                  title          ID  \\\n",
       "856   If you start counting out loud as fast as you ...  t3_1ekbfic   \n",
       "1257  The security guard in FNaF could just leave th...  t3_1e3r4vu   \n",
       "1229  What are the chances that, in open-world games...  t3_1e4pdg6   \n",
       "1050  TV started as a system where companies picked ...  t3_1eb59kh   \n",
       "1002  There should be a Vehicle version of the Libra...  t3_1fwhllu   \n",
       "\n",
       "           subreddit  title_length  title_word_count  \n",
       "856   Showerthoughts           296                59  \n",
       "1257  Showerthoughts           291                53  \n",
       "1229  Showerthoughts           300                52  \n",
       "1050  Showerthoughts           298                52  \n",
       "1002  Showerthoughts           296                52  "
      ]
     },
     "execution_count": 31,
     "metadata": {},
     "output_type": "execute_result"
    }
   ],
   "source": [
    "# Calculating the word count of each title by splitting at each white space.\n",
    "df['title_word_count'] = [len(title.split()) for title in df['title']]\n",
    "df.sort_values(by = 'title_word_count', ascending = False).head(5)"
   ]
  },
  {
   "cell_type": "code",
   "execution_count": 35,
   "id": "5e079618-3ec7-4e25-9b4d-dc58d74f81ab",
   "metadata": {},
   "outputs": [
    {
     "data": {
      "image/png": "[encoded data removed]",
      "text/plain": [
       "<Figure size 1200x500 with 2 Axes>"
      ]
     },
     "metadata": {},
     "output_type": "display_data"
    }
   ],
   "source": [
    "# Creating plots of results above for philosophy subreddit specifically.\n",
    "fig, (ax1, ax2) = plt.subplots(1, 2, figsize = (12, 5))\n",
    "\n",
    "# Plotting first distribution of title character count.\n",
    "ax1.hist(df[df['subreddit'] == 'philosophy']['title_length'], edgecolor = 'black')\n",
    "\n",
    "ax1.set_title('Distribution of Title Length')\n",
    "ax1.set_xlabel('By Character Count', size = 20)\n",
    "ax1.set_ylabel('Count')\n",
    "\n",
    "# Plotting the average title length as vertical line.\n",
    "ax1.axvline(x = np.mean(df[df['subreddit'] == 'philosophy']['title_length']), color = 'red')\n",
    "\n",
    "# Plotting second distribution of title word count.\n",
    "ax2.hist(df[df['subreddit'] == 'philosophy']['title_word_count'], color='crimson', edgecolor = 'black');\n",
    "\n",
    "ax2.set_title('Distribution of Title Length')\n",
    "ax2.set_xlabel('By Word Count', size = 20)\n",
    "ax2.set_ylabel('Count')\n",
    "\n",
    "# Average word count plotted as a vertical blue line.\n",
    "ax2.axvline(x = np.mean(df[df['subreddit'] == 'philosophy']['title_word_count']), color = 'blue')\n",
    "\n",
    "plt.tight_layout()\n",
    "plt.savefig('../images/title_length_philosophy.png')\n",
    "plt.show();"
   ]
  },
  {
   "cell_type": "code",
   "execution_count": 37,
   "id": "cc4fcaf6-64fc-4e63-8e21-5866e9e0d331",
   "metadata": {},
   "outputs": [
    {
     "data": {
      "image/png": "[encoded data removed]",
      "text/plain": [
       "<Figure size 1200x500 with 2 Axes>"
      ]
     },
     "metadata": {},
     "output_type": "display_data"
    }
   ],
   "source": [
    "# Now plotting r/Showerthoughts title length distributions.\n",
    "fig, (ax1, ax2) = plt.subplots(1, 2, figsize = (12, 5))\n",
    "\n",
    "# Plotting first distribution of title character count.\n",
    "ax1.hist(df[df['subreddit'] == 'Showerthoughts']['title_length'], edgecolor = 'black')\n",
    "\n",
    "ax1.set_title('Distribution of Title Length')\n",
    "ax1.set_xlabel('By Character Count', size = 20)\n",
    "ax1.set_ylabel('Count')\n",
    "\n",
    "# Plotting the average title length as vertical line.\n",
    "ax1.axvline(x = np.mean(df[df['subreddit'] == 'Showerthoughts']['title_length']), color = 'red')\n",
    "\n",
    "# Plotting second distribution of title word count.\n",
    "ax2.hist(df[df['subreddit'] == 'Showerthoughts']['title_word_count'], color='crimson', edgecolor = 'black');\n",
    "\n",
    "ax2.set_title('Distribution of Title Length')\n",
    "ax2.set_xlabel('By Word Count', size = 20)\n",
    "ax2.set_ylabel('Count')\n",
    "\n",
    "# Average word count plotted as a vertical blue line.\n",
    "ax2.axvline(x = np.mean(df[df['subreddit'] == 'Showerthoughts']['title_word_count']), color = 'blue')\n",
    "\n",
    "plt.tight_layout()\n",
    "plt.savefig('../images/title_length_showerthoughts.png')\n",
    "plt.show();"
   ]
  },
  {
   "cell_type": "markdown",
   "id": "8c239c13-aff9-4757-968c-00e4572bafa5",
   "metadata": {},
   "source": [
    "- While both subreddits share similar averages, the distributions show to me that titles in r/Showerthoughts are more frequently long, compared to r/philosophy."
   ]
  },
  {
   "cell_type": "markdown",
   "id": "9293c8ec-8a6d-44e0-b04a-13d7e3f01d53",
   "metadata": {},
   "source": [
    "---\n",
    "### Tokenizing & lemmatizing our post titles\n",
    "- I'd like to create some new columns with the post title broken down further by process of tokenization, we can then remove stop words or convert the words of each post to their base form by lemmatizing."
   ]
  },
  {
   "cell_type": "code",
   "execution_count": 39,
   "id": "017d5cb6-6e44-4de4-a90f-0bebfc9f12f6",
   "metadata": {},
   "outputs": [],
   "source": [
    "# Word Tokenizing\n",
    "df['title_tokens'] = [word_tokenize(title.lower()) for title in df['title']]"
   ]
  },
  {
   "cell_type": "code",
   "execution_count": 47,
   "id": "c08053e0-1e6a-49fe-9021-14ade436e41e",
   "metadata": {},
   "outputs": [
    {
     "data": {
      "text/html": [
       "<div>\n",
       "<style scoped>\n",
       "    .dataframe tbody tr th:only-of-type {\n",
       "        vertical-align: middle;\n",
       "    }\n",
       "\n",
       "    .dataframe tbody tr th {\n",
       "        vertical-align: top;\n",
       "    }\n",
       "\n",
       "    .dataframe thead th {\n",
       "        text-align: right;\n",
       "    }\n",
       "</style>\n",
       "<table border=\"1\" class=\"dataframe\">\n",
       "  <thead>\n",
       "    <tr style=\"text-align: right;\">\n",
       "      <th></th>\n",
       "      <th>title</th>\n",
       "      <th>ID</th>\n",
       "      <th>subreddit</th>\n",
       "      <th>title_length</th>\n",
       "      <th>title_word_count</th>\n",
       "      <th>title_tokens</th>\n",
       "      <th>title_lemmatized</th>\n",
       "    </tr>\n",
       "  </thead>\n",
       "  <tbody>\n",
       "    <tr>\n",
       "      <th>0</th>\n",
       "      <td>Jonathan Rée · No Foreigners: on Derrida’s Hos...</td>\n",
       "      <td>t3_1fw1nkf</td>\n",
       "      <td>philosophy</td>\n",
       "      <td>54</td>\n",
       "      <td>8</td>\n",
       "      <td>[jonathan, rée, ·, no, foreigners, :, on, derr...</td>\n",
       "      <td>jonathan rée · foreigner : derrida ’ hospitality</td>\n",
       "    </tr>\n",
       "    <tr>\n",
       "      <th>1</th>\n",
       "      <td>Introspection is a dangerous trap which lures ...</td>\n",
       "      <td>t3_1fvuxbl</td>\n",
       "      <td>philosophy</td>\n",
       "      <td>267</td>\n",
       "      <td>43</td>\n",
       "      <td>[introspection, is, a, dangerous, trap, which,...</td>\n",
       "      <td>introspection dangerous trap lure u illusion s...</td>\n",
       "    </tr>\n",
       "    <tr>\n",
       "      <th>2</th>\n",
       "      <td>The True and the Good: A Strong Virtue Theory ...</td>\n",
       "      <td>t3_1fvrkf1</td>\n",
       "      <td>philosophy</td>\n",
       "      <td>67</td>\n",
       "      <td>14</td>\n",
       "      <td>[the, true, and, the, good, :, a, strong, virt...</td>\n",
       "      <td>true good : strong virtue theory value truth</td>\n",
       "    </tr>\n",
       "    <tr>\n",
       "      <th>3</th>\n",
       "      <td>Perhaps a major stepping stone to the good lif...</td>\n",
       "      <td>t3_1fvc7cb</td>\n",
       "      <td>philosophy</td>\n",
       "      <td>262</td>\n",
       "      <td>46</td>\n",
       "      <td>[perhaps, a, major, stepping, stone, to, the, ...</td>\n",
       "      <td>perhaps major stepping stone good life ’ striv...</td>\n",
       "    </tr>\n",
       "    <tr>\n",
       "      <th>4</th>\n",
       "      <td>\"Humans understand the world more easily throu...</td>\n",
       "      <td>t3_1fv5d7d</td>\n",
       "      <td>philosophy</td>\n",
       "      <td>269</td>\n",
       "      <td>44</td>\n",
       "      <td>[``, humans, understand, the, world, more, eas...</td>\n",
       "      <td>`` human understand world easily story philoso...</td>\n",
       "    </tr>\n",
       "  </tbody>\n",
       "</table>\n",
       "</div>"
      ],
      "text/plain": [
       "                                               title          ID   subreddit  \\\n",
       "0  Jonathan Rée · No Foreigners: on Derrida’s Hos...  t3_1fw1nkf  philosophy   \n",
       "1  Introspection is a dangerous trap which lures ...  t3_1fvuxbl  philosophy   \n",
       "2  The True and the Good: A Strong Virtue Theory ...  t3_1fvrkf1  philosophy   \n",
       "3  Perhaps a major stepping stone to the good lif...  t3_1fvc7cb  philosophy   \n",
       "4  \"Humans understand the world more easily throu...  t3_1fv5d7d  philosophy   \n",
       "\n",
       "   title_length  title_word_count  \\\n",
       "0            54                 8   \n",
       "1           267                43   \n",
       "2            67                14   \n",
       "3           262                46   \n",
       "4           269                44   \n",
       "\n",
       "                                        title_tokens  \\\n",
       "0  [jonathan, rée, ·, no, foreigners, :, on, derr...   \n",
       "1  [introspection, is, a, dangerous, trap, which,...   \n",
       "2  [the, true, and, the, good, :, a, strong, virt...   \n",
       "3  [perhaps, a, major, stepping, stone, to, the, ...   \n",
       "4  [``, humans, understand, the, world, more, eas...   \n",
       "\n",
       "                                    title_lemmatized  \n",
       "0   jonathan rée · foreigner : derrida ’ hospitality  \n",
       "1  introspection dangerous trap lure u illusion s...  \n",
       "2       true good : strong virtue theory value truth  \n",
       "3  perhaps major stepping stone good life ’ striv...  \n",
       "4  `` human understand world easily story philoso...  "
      ]
     },
     "execution_count": 47,
     "metadata": {},
     "output_type": "execute_result"
    }
   ],
   "source": [
    "# Lemmatizing our tokens usually doesn't change much for most words but will help reducing the dimensionality of our word matrices\n",
    "lemmatizer = WordNetLemmatizer()\n",
    "title_lemms = []\n",
    "for title in df['title_tokens']:\n",
    "    # removing stop words in the same stroke.\n",
    "    title_lemms.append(' '.join([lemmatizer.lemmatize(token) for token in title if token not in stopwords.words('english')]))\n",
    "\n",
    "df['title_lemmatized'] = title_lemms\n",
    "\n",
    "# Even though I am not 100% sure if I have need of these extra feature columns moving forward, they are fundamental NLP techniques I would like to display.\n",
    "df.head(5)"
   ]
  },
  {
   "cell_type": "markdown",
   "id": "2060bdbb-1dc8-4ae5-b127-fbd5c1a11acb",
   "metadata": {},
   "source": [
    "---\n",
    "### Exploring most frequent words by subreddit"
   ]
  },
  {
   "cell_type": "code",
   "execution_count": 49,
   "id": "d917f4f2-6129-40ea-a20e-50d3c6c0d938",
   "metadata": {},
   "outputs": [],
   "source": [
    "# Instantiating a count vectorizer for each subreddit, choosing to remove stop words\n",
    "cvec1 = CountVectorizer(stop_words = 'english')\n",
    "cvec2 = CountVectorizer(stop_words = 'english')\n",
    "\n",
    "showerthoughts_cvec = cvec1.fit_transform(df[df['subreddit'] == 'Showerthoughts']['title'])\n",
    "philosophy_cvec = cvec2.fit_transform(df[df['subreddit'] == 'philosophy']['title'])\n",
    "\n",
    "# Turning the sparse word matrix into a prettier dataframe with .todense() and .get_feature_names_out()\n",
    "showerthoughts_cvec_df = pd.DataFrame(showerthoughts_cvec.todense(), columns = cvec1.get_feature_names_out())\n",
    "philosophy_cvec_df = pd.DataFrame(philosophy_cvec.todense(), columns = cvec2.get_feature_names_out())"
   ]
  },
  {
   "cell_type": "code",
   "execution_count": 51,
   "id": "018c18c0-3e93-47e5-be49-a51064855ad7",
   "metadata": {
    "scrolled": true
   },
   "outputs": [
    {
     "data": {
      "text/html": [
       "<div>\n",
       "<style scoped>\n",
       "    .dataframe tbody tr th:only-of-type {\n",
       "        vertical-align: middle;\n",
       "    }\n",
       "\n",
       "    .dataframe tbody tr th {\n",
       "        vertical-align: top;\n",
       "    }\n",
       "\n",
       "    .dataframe thead th {\n",
       "        text-align: right;\n",
       "    }\n",
       "</style>\n",
       "<table border=\"1\" class=\"dataframe\">\n",
       "  <thead>\n",
       "    <tr style=\"text-align: right;\">\n",
       "      <th></th>\n",
       "      <th>Frequency</th>\n",
       "    </tr>\n",
       "  </thead>\n",
       "  <tbody>\n",
       "    <tr>\n",
       "      <th>people</th>\n",
       "      <td>142</td>\n",
       "    </tr>\n",
       "    <tr>\n",
       "      <th>probably</th>\n",
       "      <td>100</td>\n",
       "    </tr>\n",
       "    <tr>\n",
       "      <th>time</th>\n",
       "      <td>78</td>\n",
       "    </tr>\n",
       "    <tr>\n",
       "      <th>like</th>\n",
       "      <td>66</td>\n",
       "    </tr>\n",
       "    <tr>\n",
       "      <th>just</th>\n",
       "      <td>47</td>\n",
       "    </tr>\n",
       "    <tr>\n",
       "      <th>humans</th>\n",
       "      <td>42</td>\n",
       "    </tr>\n",
       "    <tr>\n",
       "      <th>actually</th>\n",
       "      <td>38</td>\n",
       "    </tr>\n",
       "    <tr>\n",
       "      <th>make</th>\n",
       "      <td>38</td>\n",
       "    </tr>\n",
       "    <tr>\n",
       "      <th>know</th>\n",
       "      <td>37</td>\n",
       "    </tr>\n",
       "    <tr>\n",
       "      <th>don</th>\n",
       "      <td>35</td>\n",
       "    </tr>\n",
       "    <tr>\n",
       "      <th>likely</th>\n",
       "      <td>33</td>\n",
       "    </tr>\n",
       "    <tr>\n",
       "      <th>human</th>\n",
       "      <td>32</td>\n",
       "    </tr>\n",
       "    <tr>\n",
       "      <th>world</th>\n",
       "      <td>31</td>\n",
       "    </tr>\n",
       "    <tr>\n",
       "      <th>years</th>\n",
       "      <td>31</td>\n",
       "    </tr>\n",
       "    <tr>\n",
       "      <th>day</th>\n",
       "      <td>29</td>\n",
       "    </tr>\n",
       "    <tr>\n",
       "      <th>person</th>\n",
       "      <td>29</td>\n",
       "    </tr>\n",
       "    <tr>\n",
       "      <th>life</th>\n",
       "      <td>28</td>\n",
       "    </tr>\n",
       "    <tr>\n",
       "      <th>ve</th>\n",
       "      <td>27</td>\n",
       "    </tr>\n",
       "    <tr>\n",
       "      <th>ai</th>\n",
       "      <td>27</td>\n",
       "    </tr>\n",
       "    <tr>\n",
       "      <th>future</th>\n",
       "      <td>26</td>\n",
       "    </tr>\n",
       "  </tbody>\n",
       "</table>\n",
       "</div>"
      ],
      "text/plain": [
       "          Frequency\n",
       "people          142\n",
       "probably        100\n",
       "time             78\n",
       "like             66\n",
       "just             47\n",
       "humans           42\n",
       "actually         38\n",
       "make             38\n",
       "know             37\n",
       "don              35\n",
       "likely           33\n",
       "human            32\n",
       "world            31\n",
       "years            31\n",
       "day              29\n",
       "person           29\n",
       "life             28\n",
       "ve               27\n",
       "ai               27\n",
       "future           26"
      ]
     },
     "execution_count": 51,
     "metadata": {},
     "output_type": "execute_result"
    }
   ],
   "source": [
    "# Observing word frequencies of showerthoughts\n",
    "word_counts_showerthoughts = pd.DataFrame(showerthoughts_cvec_df.sum(axis = 0), index = showerthoughts_cvec_df.columns, columns = ['Frequency'])\n",
    "\n",
    "top_words_showerthoughts = word_counts_showerthoughts.sort_values(by = 'Frequency', ascending = False)[:20]\n",
    "top_words_showerthoughts"
   ]
  },
  {
   "cell_type": "code",
   "execution_count": 53,
   "id": "e1bae4e1-548d-4c4a-a7dd-acab76760208",
   "metadata": {
    "scrolled": true
   },
   "outputs": [
    {
     "data": {
      "text/html": [
       "<div>\n",
       "<style scoped>\n",
       "    .dataframe tbody tr th:only-of-type {\n",
       "        vertical-align: middle;\n",
       "    }\n",
       "\n",
       "    .dataframe tbody tr th {\n",
       "        vertical-align: top;\n",
       "    }\n",
       "\n",
       "    .dataframe thead th {\n",
       "        text-align: right;\n",
       "    }\n",
       "</style>\n",
       "<table border=\"1\" class=\"dataframe\">\n",
       "  <thead>\n",
       "    <tr style=\"text-align: right;\">\n",
       "      <th></th>\n",
       "      <th>Frequency</th>\n",
       "    </tr>\n",
       "  </thead>\n",
       "  <tbody>\n",
       "    <tr>\n",
       "      <th>philosophy</th>\n",
       "      <td>118</td>\n",
       "    </tr>\n",
       "    <tr>\n",
       "      <th>life</th>\n",
       "      <td>56</td>\n",
       "    </tr>\n",
       "    <tr>\n",
       "      <th>moral</th>\n",
       "      <td>51</td>\n",
       "    </tr>\n",
       "    <tr>\n",
       "      <th>self</th>\n",
       "      <td>47</td>\n",
       "    </tr>\n",
       "    <tr>\n",
       "      <th>open</th>\n",
       "      <td>44</td>\n",
       "    </tr>\n",
       "    <tr>\n",
       "      <th>world</th>\n",
       "      <td>44</td>\n",
       "    </tr>\n",
       "    <tr>\n",
       "      <th>human</th>\n",
       "      <td>43</td>\n",
       "    </tr>\n",
       "    <tr>\n",
       "      <th>reality</th>\n",
       "      <td>41</td>\n",
       "    </tr>\n",
       "    <tr>\n",
       "      <th>2024</th>\n",
       "      <td>41</td>\n",
       "    </tr>\n",
       "    <tr>\n",
       "      <th>discussion</th>\n",
       "      <td>39</td>\n",
       "    </tr>\n",
       "    <tr>\n",
       "      <th>thread</th>\n",
       "      <td>37</td>\n",
       "    </tr>\n",
       "    <tr>\n",
       "      <th>consciousness</th>\n",
       "      <td>33</td>\n",
       "    </tr>\n",
       "    <tr>\n",
       "      <th>nietzsche</th>\n",
       "      <td>29</td>\n",
       "    </tr>\n",
       "    <tr>\n",
       "      <th>nature</th>\n",
       "      <td>28</td>\n",
       "    </tr>\n",
       "    <tr>\n",
       "      <th>argument</th>\n",
       "      <td>27</td>\n",
       "    </tr>\n",
       "    <tr>\n",
       "      <th>free</th>\n",
       "      <td>25</td>\n",
       "    </tr>\n",
       "    <tr>\n",
       "      <th>social</th>\n",
       "      <td>23</td>\n",
       "    </tr>\n",
       "    <tr>\n",
       "      <th>mind</th>\n",
       "      <td>22</td>\n",
       "    </tr>\n",
       "    <tr>\n",
       "      <th>true</th>\n",
       "      <td>22</td>\n",
       "    </tr>\n",
       "    <tr>\n",
       "      <th>time</th>\n",
       "      <td>21</td>\n",
       "    </tr>\n",
       "  </tbody>\n",
       "</table>\n",
       "</div>"
      ],
      "text/plain": [
       "               Frequency\n",
       "philosophy           118\n",
       "life                  56\n",
       "moral                 51\n",
       "self                  47\n",
       "open                  44\n",
       "world                 44\n",
       "human                 43\n",
       "reality               41\n",
       "2024                  41\n",
       "discussion            39\n",
       "thread                37\n",
       "consciousness         33\n",
       "nietzsche             29\n",
       "nature                28\n",
       "argument              27\n",
       "free                  25\n",
       "social                23\n",
       "mind                  22\n",
       "true                  22\n",
       "time                  21"
      ]
     },
     "execution_count": 53,
     "metadata": {},
     "output_type": "execute_result"
    }
   ],
   "source": [
    "# Observing word frequencies of philosophy\n",
    "word_counts_philosophy = pd.DataFrame(philosophy_cvec_df.sum(axis = 0), index = philosophy_cvec_df.columns, columns = ['Frequency'])\n",
    "\n",
    "top_words_philosophy = word_counts_philosophy.sort_values(by = 'Frequency', ascending = False)[:20]\n",
    "top_words_philosophy"
   ]
  },
  {
   "cell_type": "code",
   "execution_count": 71,
   "id": "8445b5a9-e9d1-495c-b585-aef13801d28c",
   "metadata": {},
   "outputs": [
    {
     "data": {
      "image/png": "[encoded data removed]",
      "text/plain": [
       "<Figure size 1200x500 with 2 Axes>"
      ]
     },
     "metadata": {},
     "output_type": "display_data"
    }
   ],
   "source": [
    "# Plotting the results from above\n",
    "\n",
    "fig, axes = plt.subplots(1, 2, figsize=(12, 5))\n",
    "\n",
    "axes[0].barh(top_words_philosophy.index, top_words_philosophy['Frequency'], color='coral', edgecolor = 'black')\n",
    "axes[0].set_title('Top Words Used in r/philosophy', size = 15)\n",
    "axes[0].set_xlabel('Count', size = 12)\n",
    "axes[0].set_ylabel('Word', size = 12)\n",
    "\n",
    "axes[1].barh(top_words_showerthoughts.index, top_words_showerthoughts['Frequency'], color='cornflowerblue', edgecolor = 'black')\n",
    "axes[1].set_title('Top Words Used in r/Showerthoughts', size = 15)\n",
    "axes[1].set_xlabel('Count', size = 12)\n",
    "axes[1].set_ylabel('Word', size = 12)\n",
    "\n",
    "plt.tight_layout()\n",
    "plt.savefig('../images/top_words_by_subreddit.png')\n",
    "plt.show();"
   ]
  },
  {
   "cell_type": "markdown",
   "id": "a2e4526b-97e1-4a88-bc69-76e97db65ad5",
   "metadata": {},
   "source": [
    "- At a glance I can already see how post titles r/philosophy could have a more serious vocabulary compared to r/Showerthoughts\n",
    "- r/Showerthoughts most frequent words (future, ai, like, people, probably) taking on a more uncertain tone, curious tone.\n",
    "\n",
    "- Big buzz words found frequently in r/philosophy (moral, philosophy, nietzsche, conciousness) might allow these subreddits to be easily distinguished in our classification process.\n",
    "\n",
    "\n",
    "**Using what I've found so far to revisit my problem statement: Is there a difference between our own self-made observations and those made by established philosophers?**\n",
    "- A main difference I can hypothesize is that while the subject material may be very similar (life, knowledge, humanity), our own self-made observations tend to be less certain and less confident than those made by professional philosophers."
   ]
  },
  {
   "cell_type": "markdown",
   "id": "1e0d46f5-8055-4f5e-8c6a-591aa7079dc2",
   "metadata": {},
   "source": [
    "## Data Export"
   ]
  },
  {
   "cell_type": "markdown",
   "id": "6c0e1e3b-d302-42f0-a5d0-afb99a400b04",
   "metadata": {},
   "source": [
    "Now that we've ensured our data is properly formatted for processing, we can export this dataset and move on to the modelling stage."
   ]
  },
  {
   "cell_type": "code",
   "execution_count": 57,
   "id": "80248e1d-0bae-4772-9f04-ed3c8cace264",
   "metadata": {},
   "outputs": [],
   "source": [
    "df.to_csv('../data/subreddit_data_cleaned.csv', index = None)"
   ]
  },
  {
   "cell_type": "code",
   "execution_count": null,
   "id": "c50098af-88c1-4cf4-92f2-fd3c960b1a46",
   "metadata": {},
   "outputs": [],
   "source": []
  },
  {
   "cell_type": "code",
   "execution_count": null,
   "id": "12fb0b0e-5e18-416d-80c5-3d351715403f",
   "metadata": {},
   "outputs": [],
   "source": []
  }
 ],
 "metadata": {
  "kernelspec": {
   "display_name": "Python 3 (ipykernel)",
   "language": "python",
   "name": "python3"
  },
  "language_info": {
   "codemirror_mode": {
    "name": "ipython",
    "version": 3
   },
   "file_extension": ".py",
   "mimetype": "text/x-python",
   "name": "python",
   "nbconvert_exporter": "python",
   "pygments_lexer": "ipython3",
   "version": "3.12.4"
  }
 },
 "nbformat": 4,
 "nbformat_minor": 5
}
